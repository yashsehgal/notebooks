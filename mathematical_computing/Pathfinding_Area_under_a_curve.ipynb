{
 "cells": [
  {
   "cell_type": "markdown",
   "metadata": {},
   "source": [
    "# README\n",
    "\n",
    "### Code module details\n",
    "This code module is a support and testing module for mathematical computation codebase, after the testing and code research processes, this module will be merged with the development tree or master tree. \n",
    "\n",
    "### Code module methods and research parameters\n",
    "This code module is just to test out some built-in features and implement them on the real-world data and applications.\n",
    "MIT Development License has been issued for this code.\n",
    "\n",
    "- Internal features\n",
    "    * Python functions are used to write this codebase and for testing, it uses vsc terminal.\n",
    "\n",
    "### Developer details\n",
    "Yash Sehgal, @yashsehgal(github), @sehgalyash(BitBucket)"
   ]
  },
  {
   "cell_type": "code",
   "execution_count": 12,
   "metadata": {},
   "outputs": [
    {
     "data": {
      "image/png": "[encoded data removed]",
      "text/plain": [
       "<Figure size 432x288 with 1 Axes>"
      ]
     },
     "metadata": {
      "needs_background": "light"
     },
     "output_type": "display_data"
    }
   ],
   "source": [
    "from matplotlib import pyplot as plt\n",
    "import numpy as np\n",
    "import math as math\n",
    "\n",
    "def deploy_code():\n",
    "    generate_points()\n",
    "\n",
    "def generate_points():\n",
    "    duration = []\n",
    "    points = []\n",
    "    length = 100\n",
    "    \n",
    "    for count in range(-length, length):\n",
    "        duration.append(count)\n",
    "        points.append(np.random.randint(-length, length))\n",
    "\n",
    "def func(x): return x**2\n",
    "def exponential(x): return np.exp(x)\n",
    "\n",
    "\n",
    "def test_function_computation(length):\n",
    "    x = []\n",
    "    f = []\n",
    "    e = []\n",
    "    for count in range(length):\n",
    "        x.append(count)\n",
    "        f.append(func(count))\n",
    "        e.append(exponential(count))\n",
    "    \n",
    "    plt.plot(x, f)\n",
    "    for count in range(len(e)):\n",
    "        plt.plot(x[count], e[count] / 10**42)\n",
    "    plt.show()\n",
    "\n",
    "if __name__ == '__main__':\n",
    "    length = 100\n",
    "    deploy_code()\n",
    "    test_function_computation(length)"
   ]
  }
 ],
 "metadata": {
  "kernelspec": {
   "display_name": "Python 3",
   "language": "python",
   "name": "python3"
  },
  "language_info": {
   "codemirror_mode": {
    "name": "ipython",
    "version": 3
   },
   "file_extension": ".py",
   "mimetype": "text/x-python",
   "name": "python",
   "nbconvert_exporter": "python",
   "pygments_lexer": "ipython3",
   "version": "3.8.0"
  }
 },
 "nbformat": 4,
 "nbformat_minor": 4
}
