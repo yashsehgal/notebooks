{
 "cells": [
  {
   "cell_type": "markdown",
   "metadata": {},
   "source": [
    "# README\n",
    "### About Code\n",
    "This code is a pathfinding algorithm which will compute the the most shortest possible circle which will\n",
    "contain all the randomly generated points from the system. This code has multiple algorithmic features and also\n",
    "visuallizes the points on the system.\n",
    "\n",
    "### Modules \n",
    "* Matplotlib\n",
    "* Numpy\n",
    "* Math\n",
    "\n",
    "### Language\n",
    "* Python 3.8\n",
    "\n",
    "```python\n",
    "'''\n",
    "    @author: @yashsehgal   ...github\n",
    "    @author: @sehgalyash   ...bitbucket\n",
    "    @coding practice: clean coding with functional programming\n",
    "'''\n",
    "```"
   ]
  },
  {
   "cell_type": "code",
   "execution_count": 4,
   "metadata": {},
   "outputs": [
    {
     "data": {
      "image/png": "[encoded data removed]",
      "text/plain": [
       "<Figure size 432x288 with 1 Axes>"
      ]
     },
     "metadata": {
      "needs_background": "light"
     },
     "output_type": "display_data"
    }
   ],
   "source": [
    "from matplotlib import pyplot as plt\n",
    "import numpy as np\n",
    "import math as math\n",
    "\n",
    "'''\n",
    "    This function will generate random points for the system\n",
    "    @params: None\n",
    "    function name: generate_points\n",
    "'''\n",
    "def generate_points():\n",
    "    points = []\n",
    "    duration = []\n",
    "    length = 100\n",
    "    # generating random points for the algorithm\n",
    "    for count in range(-length, length):\n",
    "        duration.append(count)\n",
    "        points.append(np.random.randint(-length, length))\n",
    "    \n",
    "    # plotting points on the graph\n",
    "    plot_points(points, duration)\n",
    "    # computing the longest magnitude point from the entire system\n",
    "    compute_longest_magnitude_point(points, duration)\n",
    "\n",
    "'''\n",
    "    This function will plot the initial graph of all the random points being scattered\n",
    "    on the graph.\n",
    "    @params: points     // all the points which are generated randomly\n",
    "    @params: duration   // number of iterations \n",
    "    function name: plot_points\n",
    "'''\n",
    "def plot_points(points, duration):\n",
    "    plt.scatter(points, duration)\n",
    "    plt.show()\n",
    "\n",
    "'''\n",
    "    This function will apply the longest point computation algorithm and save the details for that point.\n",
    "    @params: points     // all the points which are generated randomly\n",
    "    @params: duration   // number of iterations \n",
    "'''\n",
    "def compute_longest_magnitude_point(points, duration):\n",
    "    origin_x = 0\n",
    "    origin_y = 0\n",
    "    longest_point = 0\n",
    "    longest_point_index = 0\n",
    "    longest_point_x_coordinate = 0\n",
    "    longest_point_y_coordinate = 0\n",
    "    possible_paths = []\n",
    "    possible_points_coordinates = []\n",
    "    # computing the longest point in the system\n",
    "    for count in range(len(duration)):\n",
    "        possible_points_coordinates.append((points[count], duration[count]))\n",
    "        possible_paths.append((math.sqrt((origin_x - points[count])**2) + (origin_y - duration[count])**2))\n",
    "        \n",
    "    # finding the longest point from the list of all possible points\n",
    "    longest_point = max(possible_paths)\n",
    "    \n",
    "    longest_point_index = possible_paths.index(longest_point)\n",
    "    \n",
    "    \n",
    "    longest_point_coordinates = (longest_point_x_coordinate, longest_point_y_coordinate)\n",
    "    longest_point_details = {\n",
    "        \"longest-point-value\": longest_point,\n",
    "        \"longest-point-index\": longest_point_index,\n",
    "        \"longest-point-x-coordinate\": longest_point_x_coordinate,\n",
    "        \"longest-point-y-coordinate\": longest_point_y_coordinate,\n",
    "        \"longest-point-coordinates\": longest_point_coordinates\n",
    "    }\n",
    "\n",
    "# main method\n",
    "if __name__ == \"__main__\":\n",
    "    generate_points()"
   ]
  },
  {
   "cell_type": "code",
   "execution_count": null,
   "metadata": {},
   "outputs": [],
   "source": [
    "-"
   ]
  }
 ],
 "metadata": {
  "kernelspec": {
   "display_name": "Python 3",
   "language": "python",
   "name": "python3"
  },
  "language_info": {
   "codemirror_mode": {
    "name": "ipython",
    "version": 3
   },
   "file_extension": ".py",
   "mimetype": "text/x-python",
   "name": "python",
   "nbconvert_exporter": "python",
   "pygments_lexer": "ipython3",
   "version": "3.8.0"
  }
 },
 "nbformat": 4,
 "nbformat_minor": 4
}
