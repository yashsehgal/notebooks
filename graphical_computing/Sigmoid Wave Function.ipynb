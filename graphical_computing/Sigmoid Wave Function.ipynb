{
 "cells": [
  {
   "cell_type": "markdown",
   "metadata": {},
   "source": [
    "# Sigmoid Wave Function"
   ]
  },
  {
   "cell_type": "code",
   "execution_count": null,
   "metadata": {},
   "outputs": [],
   "source": [
    "# importing modules\n",
    "import numpy as np\n",
    "from matplotlib import pyplot as plt\n",
    "import time"
   ]
  },
  {
   "cell_type": "code",
   "execution_count": null,
   "metadata": {},
   "outputs": [],
   "source": [
    "# importing modules\n",
    "import numpy as np\n",
    "from matplotlib import pyplot as plt\n",
    "import time\n",
    "\n",
    "def generateValues():\n",
    "    x1 = np.random.randn()\n",
    "    x2 = np.random.randn()\n",
    "    w1 = np.random.randn()\n",
    "    w2 = np.random.randn()\n",
    "    \n",
    "    bias = np.random.randn()\n",
    "    seed = ((x1 * w1) + (x2 * w2) + bias)\n",
    "    return sigmoid(seed)\n",
    "\n",
    "def sigmoid(x):\n",
    "    return (1 / (1 + np.exp(-x)))\n",
    "\n",
    "def generateGraph():\n",
    "    arraylist = []\n",
    "    for count in range(100):\n",
    "        arraylist.append(generateValues())\n",
    "    \n",
    "    # plotting graph\n",
    "    plt.plot(arraylist)\n",
    "    plt.title(\"Sigmoid Learning Rate\")\n",
    "    plt.show()\n",
    "    \n",
    "def computeWaveFunction():\n",
    "    wave_function = []\n",
    "    for count in range(-100, 100):\n",
    "        wave_function.append(count)\n",
    "    \n",
    "    # plotting graph\n",
    "    plt.plot(wave_function)\n",
    "    plt.title(\"Sigmoid Wave Function\")\n",
    "    plt.show()\n",
    "    \n",
    "def computeInterface():\n",
    "    command = \"\"\n",
    "    while command != \"exit\":\n",
    "        function_value = int(input(\"enter value> \"))\n",
    "        # computing values function\n",
    "        value = sigmoid(function_value)\n",
    "        \n",
    "        # plotting graph\n",
    "        plt.plot(value)\n",
    "        plt.title(\"Sigmoid Wave Function - Specific Value\")\n",
    "        plt.show()\n",
    "        time.sleep(4)\n",
    "\n",
    "if __name__ == '__main__':\n",
    "    generateGraph()\n",
    "    computeWaveFunction()\n",
    "    computeInterface()"
   ]
  }
 ],
 "metadata": {
  "kernelspec": {
   "display_name": "Python 3",
   "language": "python",
   "name": "python3"
  },
  "language_info": {
   "codemirror_mode": {
    "name": "ipython",
    "version": 3
   },
   "file_extension": ".py",
   "mimetype": "text/x-python",
   "name": "python",
   "nbconvert_exporter": "python",
   "pygments_lexer": "ipython3",
   "version": "3.8.0"
  }
 },
 "nbformat": 4,
 "nbformat_minor": 4
}
