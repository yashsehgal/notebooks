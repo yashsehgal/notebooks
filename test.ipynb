{
  "cells": [
    {
      "cell_type": "code",
      "source": [
        "from matplotlib import pyplot as plt\n",
        "import numpy as np\n",
        "\n",
        "def compute(value, power):\n",
        "  values = []\n",
        "  exp_values = []\n",
        "  \n",
        "  for count in range(0, value):\n",
        "    values.append(count)\n",
        "    exp_values.append(count**power)\n",
        "  \n",
        "  plotGraph(values, exp_values, power)\n",
        "\n",
        "def plotGraph(values, exp_values, power):\n",
        "  plt.plot(values, exp_values, color=\"red\")\n",
        "  plt.plot(exp_values, values, color=\"green\")\n",
        "  plt.title(\"f(x) = x^ \" + str(power) + \" | Graph\")\n",
        "  plt.show()\n",
        "\n",
        "def sigmoid(x):\n",
        "    return 1 / (1 + np.exp(-x))\n",
        "\n",
        "def test_sigmoid(seed):\n",
        "    sigmoid_data = []\n",
        "    data = []\n",
        "    # value = 0\n",
        "\n",
        "    for count in range(-seed, seed):\n",
        "        data.append(count)\n",
        "        sigmoid_data.append(sigmoid(count))\n",
        "    \n",
        "    plotSigmoidData(data, sigmoid_data)\n",
        "\n",
        "def plotSigmoidData(x, fx):\n",
        "    plt.scatter(x, fx)\n",
        "    plt.title(\"Sigmoid Function Data Ouput\")\n",
        "    plt.show()\n",
        "\n",
        "if __name__ == '__main__':\n",
        "  compute(10, 2)\n",
        "  test_sigmoid(500)"
      ],
      "outputs": [
        {
          "output_type": "display_data",
          "data": {
            "text/plain": "<Figure size 432x288 with 1 Axes>",
            "image/png": "[encoded data removed]"
          },
          "metadata": {
            "needs_background": "light"
          }
        },
        {
          "output_type": "display_data",
          "data": {
            "text/plain": "<Figure size 432x288 with 1 Axes>",
            "image/png": "[encoded data removed]"
          },
          "metadata": {
            "needs_background": "light"
          }
        }
      ],
      "execution_count": 16,
      "metadata": {
        "collapsed": true,
        "jupyter": {
          "source_hidden": false,
          "outputs_hidden": false
        },
        "nteract": {
          "transient": {
            "deleting": false
          }
        },
        "execution": {
          "iopub.status.busy": "2020-10-28T16:22:27.108Z",
          "iopub.execute_input": "2020-10-28T16:22:27.161Z",
          "iopub.status.idle": "2020-10-28T16:22:27.393Z",
          "shell.execute_reply": "2020-10-28T16:22:27.409Z"
        },
        "tags": []
      }
    }
  ],
  "metadata": {
    "kernel_info": {
      "name": "python3"
    },
    "language_info": {
      "name": "python",
      "version": "3.8.0",
      "mimetype": "text/x-python",
      "codemirror_mode": {
        "name": "ipython",
        "version": 3
      },
      "pygments_lexer": "ipython3",
      "nbconvert_exporter": "python",
      "file_extension": ".py"
    },
    "kernelspec": {
      "argv": [
        "python",
        "-m",
        "ipykernel_launcher",
        "-f",
        "{connection_file}"
      ],
      "display_name": "Python 3",
      "language": "python",
      "name": "python3"
    },
    "nteract": {
      "version": "0.26.0"
    }
  },
  "nbformat": 4,
  "nbformat_minor": 0
}