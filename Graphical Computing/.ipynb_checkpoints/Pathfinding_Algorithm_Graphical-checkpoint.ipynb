{
 "cells": [
  {
   "cell_type": "code",
   "execution_count": null,
   "metadata": {},
   "outputs": [],
   "source": [
    "'''\n",
    "    This code module is based upon the mathematical computing using graphical methods.\n",
    "    Problem 01: To create a pathfinding algorithm using points-scatter graphs which will compute\n",
    "                all the points which have the most longest distance from the origin.\n",
    "                \n",
    "                TODO: To generate random points on the graph\n",
    "                TODO: Apply Pathfinding Algorithm to solve the problem\n",
    "                TODO: To show the computed results\n",
    "                \n",
    "                ? Complexity Status: Complexity status should lie between 0(n) <---> 0(n^2)\n",
    "                ? Time and Scope Complexity: O(10**-5) to O(10**-10)\n",
    "'''"
   ]
  },
  {
   "cell_type": "code",
   "execution_count": 4,
   "metadata": {},
   "outputs": [
    {
     "name": "stdout",
     "output_type": "stream",
     "text": [
      "[-80, 66, -27, 9, 60, 92, -22, -51, 12, 8, -48, -79, -76, 74, -75, 3, 13, -96, 33, 42, -4, -60, -36, 98, -21, 11, -96, 2, -33, 44, -26, 67, 99, 51, 23, -72, 44, -45, -83, 73, 84, 94, 38, 71, -62, -9, -45, 38, 84, -65, 5, -97, -22, 41, 86, 19, 99, -55, 5, 74, -80, 36, -86, -14, -86, -49, 68, 11, 28, -78, -93, 4, -45, 46, -13, 60, -78, 89, 94, 20, 85, 36, -79, 8, -68, -47, -45, 57, -35, -26, -18, -56, -24, -1, -51, -43, 66, 48, -73, -9]\n"
     ]
    }
   ],
   "source": [
    "# importing modules %% matplotlib inline\n",
    "from matplotlib import pyplot as plt\n",
    "import numpy as np\n",
    "\n",
    "def generate_points():\n",
    "    points = []\n",
    "    for count in range(100):\n",
    "        points.append(np.random.randint(-100, 100))\n",
    "    # print(points)\n",
    "    plot_points_on_graph(points)\n",
    "\n",
    "def plot_points_on_graphs(seeds):\n",
    "    # plotting seed values on \n",
    "    \n",
    "    \n",
    "if __name__ == \"__main__\":\n",
    "    generate_points()"
   ]
  },
  {
   "cell_type": "code",
   "execution_count": null,
   "metadata": {},
   "outputs": [],
   "source": []
  }
 ],
 "metadata": {
  "kernelspec": {
   "display_name": "Python 3",
   "language": "python",
   "name": "python3"
  },
  "language_info": {
   "codemirror_mode": {
    "name": "ipython",
    "version": 3
   },
   "file_extension": ".py",
   "mimetype": "text/x-python",
   "name": "python",
   "nbconvert_exporter": "python",
   "pygments_lexer": "ipython3",
   "version": "3.8.0"
  }
 },
 "nbformat": 4,
 "nbformat_minor": 4
}
