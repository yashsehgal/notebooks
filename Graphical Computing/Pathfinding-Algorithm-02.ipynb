{
 "cells": [
  {
   "cell_type": "markdown",
   "metadata": {},
   "source": [
    "# README\n",
    "### About Code\n",
    "This code is a pathfinding algorithm which will compute the the most shortest possible circle which will\n",
    "contain all the randomly generated points from the system. This code has multiple algorithmic features and also\n",
    "visuallizes the points on the system.\n",
    "\n",
    "### Modules \n",
    "* Matplotlib\n",
    "* Numpy\n",
    "* Math\n",
    "* CSV\n",
    "\n",
    "### Language\n",
    "* Python 3.8\n",
    "\n",
    "```python\n",
    "'''\n",
    "    @author: @yashsehgal   ...github\n",
    "    @author: @sehgalyash   ...bitbucket\n",
    "    @coding practice: clean coding with functional programming\n",
    "'''\n",
    "```"
   ]
  },
  {
   "cell_type": "code",
   "execution_count": 95,
   "metadata": {},
   "outputs": [],
   "source": [
    "from matplotlib import pyplot as plt\n",
    "import numpy as np\n",
    "import math as math\n",
    "import csv as csv\n",
    "\n",
    "'''\n",
    "    This function will generate random points for the system\n",
    "    @params: None\n",
    "    function name: generate_points\n",
    "'''\n",
    "def generate_points():\n",
    "    points = []\n",
    "    duration = []\n",
    "    length = 100\n",
    "    # generating random points for the algorithm\n",
    "    for count in range(-length, length):\n",
    "        duration.append(count)\n",
    "        points.append(np.random.randint(-length, length))\n",
    "        \n",
    "    # computing the longest magnitude point from the entire system\n",
    "    compute_longest_magnitude_point(points, duration, length)\n",
    "\n",
    "'''\n",
    "    This function will plot the initial graph of all the random points being scattered\n",
    "    on the graph.\n",
    "    @params: points     // all the points which are generated randomly\n",
    "    @params: duration   // number of iterations \n",
    "    function name: plot_points\n",
    "'''\n",
    "def plot_points(points, duration):\n",
    "    plt.scatter(points, duration)\n",
    "    plt.show()\n",
    "\n",
    "'''\n",
    "    This function will apply the longest point computation algorithm and save the details for that point.\n",
    "    @params: points     // all the points which are generated randomly\n",
    "    @params: duration   // number of iterations \n",
    "    function name: compute_longest_magnitude_point\n",
    "'''\n",
    "def compute_longest_magnitude_point(points, duration, length):\n",
    "    origin_x = 0\n",
    "    origin_y = 0\n",
    "    origin = (origin_x, origin_y)\n",
    "    longest_point = 0\n",
    "    longest_point_index = 0\n",
    "    longest_point_x_coordinate = 0\n",
    "    longest_point_y_coordinate = 0\n",
    "    possible_paths = []\n",
    "    possible_points_coordinates = []\n",
    "    # computing the longest point in the system\n",
    "    for count in range(len(duration)):\n",
    "        possible_points_coordinates.append((points[count], duration[count]))\n",
    "        possible_paths.append((math.sqrt((origin_x - points[count])**2) + (origin_y - duration[count])**2))\n",
    "        \n",
    "    # finding the longest point from the list of all possible points\n",
    "    longest_point = max(possible_paths)\n",
    "    # finding the index of the longest distant point\n",
    "    longest_point_index = possible_paths.index(longest_point)\n",
    "    # storing the x-coordinate of the longest point\n",
    "    longest_point_x_coordinate = points[longest_point_index]\n",
    "    # storing the y-coordinate of the longest point\n",
    "    longest_point_y_coordinate = duration[longest_point_index]\n",
    "    # storing the coordinates in a constant tuple\n",
    "    longest_point_coordinate = (longest_point_x_coordinate, longest_point_y_coordinate)\n",
    "    \n",
    "    \n",
    "    longest_point_coordinates = (longest_point_x_coordinate, longest_point_y_coordinate)\n",
    "    computation_cols = [\"origin_x\", \"origin_y\", \"origin_coordinates\", \"longest_point_value\",\n",
    "                       \"longest_point_index\", \"longest_point_x_coordinate\", \"longest_point_y_coordinate\",\n",
    "                       \"longest_point_coordinates\", \"number_of_possible_paths\", \"number_of_possible_paths_coordinates\"]\n",
    "    computation_details = [{\n",
    "        \"origin_x\": origin_x,\n",
    "        \"origin_y\": origin_y,\n",
    "        \"origin_coordinates\": origin,\n",
    "        \"longest_point_value\": longest_point,\n",
    "        \"longest_point_index\": longest_point_index,\n",
    "        \"longest_point_x_coordinate\": longest_point_x_coordinate,\n",
    "        \"longest_point_y_coordinate\": longest_point_y_coordinate,\n",
    "        \"longest_point_coordinates\": longest_point_coordinates,\n",
    "        \"number_of_possible_paths\": len(possible_paths),\n",
    "        \"number_of_possible_paths_coordinates\": len(possible_points_coordinates)\n",
    "    }]\n",
    "    \n",
    "    plt.scatter(points, duration, color=\"yellow\")\n",
    "    figure, axes = plt.subplots()\n",
    "    axes.set(xlim = (-length**2.3, length**2.3), ylim = (-length**2.3, length**2.3))\n",
    "    circle_plot = plt.Circle((origin_x, origin_y), longest_point)\n",
    "    axes.add_artist(circle_plot)\n",
    "    plt.savefig('scatter-plot.png')\n",
    "    figure.savefig('plot-circle.png')\n",
    "    \n",
    "    \n",
    "    # writing data in a csv file \n",
    "    csv_file_name = \"computation_details.csv\"\n",
    "    csv_file_open_mode = 'a'\n",
    "    try:\n",
    "        with open(csv_file_name, csv_file_open_mode) as csv_file:\n",
    "            writer = csv.DictWriter(csv_file, computation_cols)\n",
    "            writer.writeheader()\n",
    "            for data_writer in computation_details:\n",
    "                writer.writerow(data_writer)\n",
    "            print(\"data successfully saved for this computation!\")\n",
    "    except IOError:\n",
    "        message = (\n",
    "            \"Something went wrong while inserting the data into CSV \\n CSVWritingError\"\n",
    "        )\n",
    "        message_desc = (\n",
    "            \"Try opening other files or change the opening mode in order to write data in CSV\",\n",
    "        )\n",
    "        message_file_error = (\n",
    "            \"{}: file not found\".format(csv_file_name)\n",
    "        )\n",
    "        print(message)"
   ]
  },
  {
   "cell_type": "code",
   "execution_count": null,
   "metadata": {},
   "outputs": [],
   "source": []
  },
  {
   "cell_type": "code",
   "execution_count": 96,
   "metadata": {},
   "outputs": [
    {
     "name": "stdout",
     "output_type": "stream",
     "text": [
      "data successfully saved for this computation!\n"
     ]
    },
    {
     "data": {
      "image/png": "[encoded data removed]",
      "text/plain": [
       "<Figure size 432x288 with 1 Axes>"
      ]
     },
     "metadata": {
      "needs_background": "light"
     },
     "output_type": "display_data"
    },
    {
     "data": {
      "image/png": "[encoded data removed]",
      "text/plain": [
       "<Figure size 432x288 with 1 Axes>"
      ]
     },
     "metadata": {
      "needs_background": "light"
     },
     "output_type": "display_data"
    }
   ],
   "source": [
    "# main method\n",
    "if __name__ == \"__main__\":\n",
    "    generate_points()"
   ]
  }
 ],
 "metadata": {
  "kernelspec": {
   "display_name": "Python 3",
   "language": "python",
   "name": "python3"
  },
  "language_info": {
   "codemirror_mode": {
    "name": "ipython",
    "version": 3
   },
   "file_extension": ".py",
   "mimetype": "text/x-python",
   "name": "python",
   "nbconvert_exporter": "python",
   "pygments_lexer": "ipython3",
   "version": "3.8.0"
  }
 },
 "nbformat": 4,
 "nbformat_minor": 4
}
