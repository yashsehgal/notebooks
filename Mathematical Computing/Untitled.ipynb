{
 "cells": [
  {
   "cell_type": "code",
   "execution_count": null,
   "metadata": {},
   "outputs": [],
   "source": [
    "# importing modules\n",
    "import numpy as np\n",
    "from matplotlib import pyplot as plt\n",
    "\n",
    "class NeuralNetwork:\n",
    "    def __init__(self, numberOfIterations):\n",
    "        self.count = numberOfIterations\n",
    "    \n",
    "    def sigmoid(self, seed):\n",
    "        return (1 / (1 + np.exp(-seed))\n",
    "    \n",
    "    def LayerOne(self):\n",
    "        layer_one_tensor = []\n",
    "        for i in range(self.count):\n",
    "            layer_one_tensor()"
   ]
  }
 ],
 "metadata": {
  "kernelspec": {
   "display_name": "Python 3",
   "language": "python",
   "name": "python3"
  },
  "language_info": {
   "codemirror_mode": {
    "name": "ipython",
    "version": 3
   },
   "file_extension": ".py",
   "mimetype": "text/x-python",
   "name": "python",
   "nbconvert_exporter": "python",
   "pygments_lexer": "ipython3",
   "version": "3.8.0"
  }
 },
 "nbformat": 4,
 "nbformat_minor": 4
}
